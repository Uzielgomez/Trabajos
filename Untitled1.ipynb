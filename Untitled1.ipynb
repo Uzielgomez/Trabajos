{
  "nbformat": 4,
  "nbformat_minor": 0,
  "metadata": {
    "colab": {
      "provenance": [],
      "authorship_tag": "ABX9TyOlwlZyNhztYsUfuM/OWgIl",
      "include_colab_link": true
    },
    "kernelspec": {
      "name": "python3",
      "display_name": "Python 3"
    },
    "language_info": {
      "name": "python"
    }
  },
  "cells": [
    {
      "cell_type": "markdown",
      "metadata": {
        "id": "view-in-github",
        "colab_type": "text"
      },
      "source": [
        "<a href=\"https://colab.research.google.com/github/Uzielgomez/Trabajos/blob/main/Untitled1.ipynb\" target=\"_parent\"><img src=\"https://colab.research.google.com/assets/colab-badge.svg\" alt=\"Open In Colab\"/></a>"
      ]
    },
    {
      "cell_type": "code",
      "execution_count": 1,
      "metadata": {
        "colab": {
          "base_uri": "https://localhost:8080/"
        },
        "id": "L5875PXQ07Ao",
        "outputId": "34b5db5b-5638-4b54-9c7b-6eb02d49ea60"
      },
      "outputs": [
        {
          "output_type": "execute_result",
          "data": {
            "text/plain": [
              "2"
            ]
          },
          "metadata": {},
          "execution_count": 1
        }
      ],
      "source": [
        "1+1\n"
      ]
    },
    {
      "cell_type": "markdown",
      "source": [
        "## la siguiente operacion demuestra si 20 es mayor o igual que 10"
      ],
      "metadata": {
        "id": "oOaTbbGA1aji"
      }
    },
    {
      "cell_type": "code",
      "source": [
        "20>=10"
      ],
      "metadata": {
        "colab": {
          "base_uri": "https://localhost:8080/"
        },
        "id": "v9ThPBhX1IpZ",
        "outputId": "83c00377-7e37-49b3-b920-6566d32b9d43"
      },
      "execution_count": 2,
      "outputs": [
        {
          "output_type": "execute_result",
          "data": {
            "text/plain": [
              "True"
            ]
          },
          "metadata": {},
          "execution_count": 2
        }
      ]
    },
    {
      "cell_type": "markdown",
      "source": [
        "la siguiente expresioooon ejecuta el metodo upper() propio de los objetivos str mediante el operador de atributo que convierte en mayusculas"
      ],
      "metadata": {
        "id": "5uxGyOmh144Y"
      }
    },
    {
      "cell_type": "code",
      "source": [
        "\"carro\".upper()"
      ],
      "metadata": {
        "colab": {
          "base_uri": "https://localhost:8080/",
          "height": 35
        },
        "id": "TY9s7nE32Uwl",
        "outputId": "3c75742f-7f39-4578-d720-e55a3508472f"
      },
      "execution_count": 4,
      "outputs": [
        {
          "output_type": "execute_result",
          "data": {
            "text/plain": [
              "'CARRO'"
            ],
            "application/vnd.google.colaboratory.intrinsic+json": {
              "type": "string"
            }
          },
          "metadata": {},
          "execution_count": 4
        }
      ]
    },
    {
      "cell_type": "markdown",
      "source": [
        "la siguiente celda ejacuta una expreison que invoca la funcion len()"
      ],
      "metadata": {
        "id": "xD4r3OdS2f6Z"
      }
    },
    {
      "cell_type": "code",
      "source": [
        "len(\"trecientos___________________________\")"
      ],
      "metadata": {
        "colab": {
          "base_uri": "https://localhost:8080/"
        },
        "id": "3H2ZU9hp2pIz",
        "outputId": "faa592d6-a019-4da9-a4fe-5b6be4a11cd4"
      },
      "execution_count": 9,
      "outputs": [
        {
          "output_type": "execute_result",
          "data": {
            "text/plain": [
              "37"
            ]
          },
          "metadata": {},
          "execution_count": 9
        }
      ]
    },
    {
      "cell_type": "markdown",
      "source": [
        "# ejecuta varias en una sola linea"
      ],
      "metadata": {
        "id": "nzotJW7g29z8"
      }
    },
    {
      "cell_type": "markdown",
      "source": [
        "a continuacion se ejecutaran varias en una sola linea"
      ],
      "metadata": {
        "id": "BQlZXpu53OtF"
      }
    },
    {
      "cell_type": "code",
      "source": [
        "a = 3; \"hola\".upper(); a + 5"
      ],
      "metadata": {
        "colab": {
          "base_uri": "https://localhost:8080/"
        },
        "id": "AGCOGAbc3FG1",
        "outputId": "72c7dc79-224c-41f7-f0d6-08b4b9809a1d"
      },
      "execution_count": 10,
      "outputs": [
        {
          "output_type": "execute_result",
          "data": {
            "text/plain": [
              "8"
            ]
          },
          "metadata": {},
          "execution_count": 10
        }
      ]
    },
    {
      "cell_type": "code",
      "source": [
        "a"
      ],
      "metadata": {
        "colab": {
          "base_uri": "https://localhost:8080/"
        },
        "id": "tJU7MzIE3lZJ",
        "outputId": "c306e073-5e3c-4dcb-b681-64ce9257f55c"
      },
      "execution_count": 11,
      "outputs": [
        {
          "output_type": "execute_result",
          "data": {
            "text/plain": [
              "3"
            ]
          },
          "metadata": {},
          "execution_count": 11
        }
      ]
    },
    {
      "cell_type": "markdown",
      "source": [
        "si la ultima expresion termina en un punto y coma, tampoco sera desplegada"
      ],
      "metadata": {
        "id": "x0VLgWxk3m93"
      }
    },
    {
      "cell_type": "code",
      "source": [
        "a += 11; \"amigos\" * 3; a == 1;"
      ],
      "metadata": {
        "id": "kl3MdeLC300i"
      },
      "execution_count": 15,
      "outputs": []
    },
    {
      "cell_type": "code",
      "source": [
        "a"
      ],
      "metadata": {
        "colab": {
          "base_uri": "https://localhost:8080/"
        },
        "id": "WZjz-l7T4CLQ",
        "outputId": "b268e684-1cc4-4aa8-9708-20f11084ae16"
      },
      "execution_count": 16,
      "outputs": [
        {
          "output_type": "execute_result",
          "data": {
            "text/plain": [
              "36"
            ]
          },
          "metadata": {},
          "execution_count": 16
        }
      ]
    },
    {
      "cell_type": "markdown",
      "source": [
        "las siguientes celdas contienen varias expresiones cuyo resultado sera desplegado por el interpete de phyton"
      ],
      "metadata": {
        "id": "rpnWr4Kx4TAY"
      }
    },
    {
      "cell_type": "code",
      "source": [
        "4*3"
      ],
      "metadata": {
        "colab": {
          "base_uri": "https://localhost:8080/"
        },
        "id": "uYV79AWH4kNP",
        "outputId": "af0ca68c-07f3-471c-f429-5f5ab87ebb92"
      },
      "execution_count": 17,
      "outputs": [
        {
          "output_type": "execute_result",
          "data": {
            "text/plain": [
              "12"
            ]
          },
          "metadata": {},
          "execution_count": 17
        }
      ]
    },
    {
      "cell_type": "code",
      "source": [
        "15 == 5"
      ],
      "metadata": {
        "colab": {
          "base_uri": "https://localhost:8080/"
        },
        "id": "q2BBly504m8p",
        "outputId": "97fc88fd-3c9c-4583-b17b-903c5387ed75"
      },
      "execution_count": 19,
      "outputs": [
        {
          "output_type": "execute_result",
          "data": {
            "text/plain": [
              "False"
            ]
          },
          "metadata": {},
          "execution_count": 19
        }
      ]
    },
    {
      "cell_type": "code",
      "source": [
        "\"hola\" + \"mundo\""
      ],
      "metadata": {
        "colab": {
          "base_uri": "https://localhost:8080/",
          "height": 35
        },
        "id": "iKUTrN4a4r9S",
        "outputId": "b8e0ba0d-6605-4ce4-bf91-25de31ccf336"
      },
      "execution_count": 20,
      "outputs": [
        {
          "output_type": "execute_result",
          "data": {
            "text/plain": [
              "'holamundo'"
            ],
            "application/vnd.google.colaboratory.intrinsic+json": {
              "type": "string"
            }
          },
          "metadata": {},
          "execution_count": 20
        }
      ]
    },
    {
      "cell_type": "markdown",
      "source": [
        "# docstring\n",
        "phyton tambien permie incluir cimentarios en varias lineas. deben estar encerrados en \"\"\" o en triples apostrofes ***\n",
        "este tipo de comentarios son conocidos como \"**docstring**\" y son utilizados para generar dsocumentacio medinate help()"
      ],
      "metadata": {
        "id": "j9T7VWu34xPG"
      }
    },
    {
      "cell_type": "code",
      "source": [
        "def funcion()\n",
        "\"\"\"ejemplo del uso\"\"\"\n",
        "print(\"hola2)"
      ],
      "metadata": {
        "id": "7HACdHf95mQM"
      },
      "execution_count": null,
      "outputs": []
    },
    {
      "cell_type": "code",
      "source": [],
      "metadata": {
        "id": "SRPMGgbT5ykm"
      },
      "execution_count": null,
      "outputs": []
    }
  ]
}